{
 "cells": [
  {
   "cell_type": "markdown",
   "metadata": {},
   "source": [
    "# Vectorization in python"
   ]
  },
  {
   "cell_type": "code",
   "execution_count": null,
   "metadata": {},
   "outputs": [],
   "source": [
    "import numpy as np\n",
    "import time"
   ]
  },
  {
   "cell_type": "code",
   "execution_count": null,
   "metadata": {},
   "outputs": [],
   "source": [
    "## ndarray - fast and space-efficient array providing vectorized arithmetic operations\n",
    "data = [6, 7.5, 8, 0, 1]\n",
    "arr = np.array(data)\n",
    "print(arr)"
   ]
  },
  {
   "cell_type": "code",
   "execution_count": null,
   "metadata": {},
   "outputs": [],
   "source": [
    "matrix = [[1.5, 2, 3, 4], [5, 6, 7, 8]]\n",
    "arr = np.array(matrix)\n",
    "print(arr)"
   ]
  },
  {
   "cell_type": "code",
   "execution_count": null,
   "metadata": {},
   "outputs": [],
   "source": [
    "# to find the no of dimensions of a numpy matrix\n",
    "arr.ndim"
   ]
  },
  {
   "cell_type": "code",
   "execution_count": null,
   "metadata": {},
   "outputs": [],
   "source": [
    "# to find the shape of a numpy matrix (returns r,c format)\n",
    "arr.shape"
   ]
  },
  {
   "cell_type": "code",
   "execution_count": null,
   "metadata": {},
   "outputs": [],
   "source": [
    "# to find the datatype of matrix\n",
    "arr.dtype"
   ]
  },
  {
   "cell_type": "code",
   "execution_count": null,
   "metadata": {},
   "outputs": [],
   "source": [
    "# initializing vector with zeros\n",
    "zero_arr = np.zeros(5)\n",
    "print(zero_arr)\n",
    "\n",
    "# initializing empty vector\n",
    "emp_arr = np.empty((2,4))\n",
    "print(emp_arr)              "
   ]
  },
  {
   "cell_type": "code",
   "execution_count": null,
   "metadata": {},
   "outputs": [],
   "source": [
    "## Regular array operations\n",
    "arr1 = np.array(np.random.randn(100000))\n",
    "arr2 = np.array(np.random.randn(100000))\n",
    "new_arr = np.empty(100000)\n",
    "\n",
    "# element-wise multiplication\n",
    "start_time = time.time()\n",
    "for i in range(100000):\n",
    "    new_arr[i] = arr1[i]*arr2[i]\n",
    "end_time = time.time()\n",
    "print((end_time - start_time)*1000)"
   ]
  },
  {
   "cell_type": "code",
   "execution_count": null,
   "metadata": {},
   "outputs": [],
   "source": [
    "## Array operations without using for loops\n",
    "# operations between same-sized arrays result in element-wise operations\n",
    "start = time.time()\n",
    "mul_arr = arr1 * arr2\n",
    "end = time.time()\n",
    "print((end - start)*1000)"
   ]
  },
  {
   "cell_type": "code",
   "execution_count": null,
   "metadata": {},
   "outputs": [],
   "source": [
    "# subtraction between arrays\n",
    "sub_array = np.empty(100000)\n",
    "start_time = time.time()\n",
    "for i in range(100000):\n",
    "    new_arr[i] = arr1[i]-arr2[i]\n",
    "end_time = time.time()\n",
    "print((end_time-start_time)*1000)"
   ]
  },
  {
   "cell_type": "code",
   "execution_count": null,
   "metadata": {},
   "outputs": [],
   "source": [
    "# subtraction using vectorization\n",
    "start_time = time.time()\n",
    "sub_array_vec = arr1 - arr2\n",
    "end_time = time.time()\n",
    "print((end_time-start_time)*1000)"
   ]
  },
  {
   "cell_type": "code",
   "execution_count": null,
   "metadata": {},
   "outputs": [],
   "source": [
    "# other operations\n",
    "arr1 = np.array([1,2,3,4])\n",
    "arr2 = np.array([2,0,1,1])\n",
    "print(1.0/arr1)\n",
    "print(arr1 ** 0.5)\n",
    "print(np.sqrt(arr1))\n",
    "print(np.exp(arr1))"
   ]
  },
  {
   "cell_type": "code",
   "execution_count": null,
   "metadata": {},
   "outputs": [],
   "source": [
    "## Matrix multiplications\n",
    "mat1 = np.random.randn(100, 100)\n",
    "mat2 = np.random.randn(100, 1000)\n",
    "\n",
    "res = np.empty((100, 1000))\n",
    "# regular matrix multiplication\n",
    "start = time.time()\n",
    "# iterate through rows of X\n",
    "for i in range(len(mat1)):\n",
    "   # iterate through columns of Y\n",
    "   for j in range(len(mat2[0])):\n",
    "       # iterate through rows of Y\n",
    "       for k in range(len(mat2)):\n",
    "            res[i][j] += mat1[i][k] * mat2[k][j]\n",
    "end = time.time()\n",
    "print((end-start)*1000)"
   ]
  },
  {
   "cell_type": "code",
   "execution_count": null,
   "metadata": {},
   "outputs": [],
   "source": [
    "# vectorized matrix multiplication\n",
    "start = time.time()\n",
    "result = np.matmul(mat1, mat2)\n",
    "end = time.time()\n",
    "print((end-start)*1000)"
   ]
  },
  {
   "cell_type": "markdown",
   "metadata": {},
   "source": [
    "The time taken by the vectorized operations is drastically reduced compared to the non-vectorized operations"
   ]
  },
  {
   "cell_type": "code",
   "execution_count": null,
   "metadata": {},
   "outputs": [],
   "source": []
  }
 ],
 "metadata": {
  "kernelspec": {
   "display_name": "Python 2",
   "language": "python",
   "name": "python2"
  },
  "language_info": {
   "codemirror_mode": {
    "name": "ipython",
    "version": 2
   },
   "file_extension": ".py",
   "mimetype": "text/x-python",
   "name": "python",
   "nbconvert_exporter": "python",
   "pygments_lexer": "ipython2",
   "version": "2.7.13"
  }
 },
 "nbformat": 4,
 "nbformat_minor": 2
}
